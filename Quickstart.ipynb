{
 "cells": [
  {
   "cell_type": "code",
   "execution_count": 1,
   "metadata": {},
   "outputs": [],
   "source": [
    "from experiments.config import get_default_config\n",
    "from src.benchmark.synthetic_dataset import  get_task,get_dataloader\n",
    "from src.libs.soi import  SOI\n",
    "from src.libs.soi_grad import  SOI_grad\n",
    "import numpy as np"
   ]
  },
  {
   "cell_type": "code",
   "execution_count": 2,
   "metadata": {},
   "outputs": [],
   "source": [
    "## Default config\n",
    "args=get_default_config()"
   ]
  },
  {
   "cell_type": "markdown",
   "metadata": {},
   "source": [
    "### Redundancy"
   ]
  },
  {
   "cell_type": "code",
   "execution_count": 3,
   "metadata": {},
   "outputs": [
    {
     "data": {
      "text/plain": [
       "0.14736860225060955"
      ]
     },
     "execution_count": 3,
     "metadata": {},
     "output_type": "execute_result"
    }
   ],
   "source": [
    "## Make a synthetic task with 6 made of two redundant subtasks of 3 variables.\n",
    "my_settings = [{\"rho\":0.6,\"type\":\"red\",\"nb\":3} ]\n",
    "args.dim = 1\n",
    "task_red = get_task(args,my_settings)\n",
    "task_red.o_inf()"
   ]
  },
  {
   "cell_type": "markdown",
   "metadata": {},
   "source": [
    "### Synergy"
   ]
  },
  {
   "cell_type": "code",
   "execution_count": 7,
   "metadata": {},
   "outputs": [
    {
     "data": {
      "text/plain": [
       "-0.12391808195228782"
      ]
     },
     "execution_count": 7,
     "metadata": {},
     "output_type": "execute_result"
    }
   ],
   "source": [
    "## Make a synthetic task with 6 made of two redundant subtasks of 3 variables.\n",
    "my_settings = [{\"rho\":0.6,\"type\":\"syn\",\"nb\":3} ]\n",
    "args.dim = 1\n",
    "task_syn = get_task(args,my_settings)\n",
    "task_syn.get_summary()[\"o_inf\"]"
   ]
  },
  {
   "cell_type": "markdown",
   "metadata": {},
   "source": [
    "### Redundancy + Synergy"
   ]
  },
  {
   "cell_type": "code",
   "execution_count": 8,
   "metadata": {},
   "outputs": [
    {
     "data": {
      "text/plain": [
       "0.02345052029832928"
      ]
     },
     "execution_count": 8,
     "metadata": {},
     "output_type": "execute_result"
    }
   ],
   "source": [
    "## Make a synthetic task with 6 made of two redundant subtasks of 3 variables.\n",
    "my_settings = [{\"rho\":0.6,\"type\":\"red\",\"nb\":3},{\"rho\":0.6,\"type\":\"syn\",\"nb\":3} ]\n",
    "args.dim = 1\n",
    "task_both = get_task(args,my_settings)\n",
    "task_both.get_summary()[\"o_inf\"]"
   ]
  },
  {
   "cell_type": "markdown",
   "metadata": {},
   "source": [
    "# O-information estimation"
   ]
  },
  {
   "cell_type": "markdown",
   "metadata": {},
   "source": [
    "### General config"
   ]
  },
  {
   "cell_type": "code",
   "execution_count": 4,
   "metadata": {},
   "outputs": [],
   "source": [
    "args.use_ema=True\n",
    "args.weight_s_functions = True\n",
    "args.importance_sampling = True\n",
    "args.bs = 512\n",
    "args.warmup_epochs = 30\n",
    "args.max_epochs = 60\n",
    "args.test_epoch = 5\n",
    "args.debug = True\n",
    "args.ou_dir = \"quickstart/\""
   ]
  },
  {
   "cell_type": "markdown",
   "metadata": {},
   "source": [
    "### Runing SOI "
   ]
  },
  {
   "cell_type": "markdown",
   "metadata": {},
   "source": [
    "### On the redundancy benchmark"
   ]
  },
  {
   "cell_type": "code",
   "execution_count": null,
   "metadata": {},
   "outputs": [],
   "source": [
    "gt = task_red.get_summary()\n",
    "train_l, test_l  = get_dataloader(task_red,args)\n",
    "## Run SOI\n",
    "soi = SOI(args, nb_var = task_red.nb_var, test_loader=test_l, gt = gt)\n",
    "## Fit the model\n",
    "soi.fit(train_l, test_l)\n",
    "## Compute O_information using the test_loader\n",
    "results = soi.compute_o_inf()\n",
    "print(\"SOI:\", {\" O-inf\": results[\"o_inf\"],\"tc\":results[\"tc\"], \"dtc\":results[\"dtc\"], \"S-info\": results[\"s_inf\"] })\n",
    "print(\"GT:\", {\" O-inf\": gt[\"o_inf\"],\"tc\":gt[\"tc\"], \"dtc\":gt[\"dtc\"], \"S-info\": gt[\"s_inf\"] } )\n"
   ]
  },
  {
   "cell_type": "markdown",
   "metadata": {},
   "source": [
    "### On the synergy benchmark"
   ]
  },
  {
   "cell_type": "code",
   "execution_count": null,
   "metadata": {},
   "outputs": [],
   "source": [
    "gt = task_syn.get_summary()\n",
    "train_l, test_l  = get_dataloader(task_syn,args)\n",
    "## Run SOI\n",
    "soi = SOI(args, nb_var = task_syn.nb_var, test_loader=test_l, gt = gt)\n",
    "## Fit the model\n",
    "soi.fit(train_l, test_l)\n",
    "## Compute O_information using the test_loader\n",
    "results = soi.compute_o_inf()\n",
    "print(\"SOI:\", {\" O-inf\": results[\"o_inf\"],\"tc\":results[\"tc\"], \"dtc\":results[\"dtc\"], \"S-info\": results[\"s_inf\"] })\n",
    "print(\"GT:\", {\" O-inf\": gt[\"o_inf\"],\"tc\":gt[\"tc\"], \"dtc\":gt[\"dtc\"], \"S-info\": gt[\"s_inf\"] } )\n"
   ]
  },
  {
   "cell_type": "markdown",
   "metadata": {},
   "source": [
    "### On the mixed benchmark"
   ]
  },
  {
   "cell_type": "code",
   "execution_count": null,
   "metadata": {},
   "outputs": [],
   "source": [
    "gt = task_both.get_summary()\n",
    "train_l, test_l  = get_dataloader(task_both,args)\n",
    "## Run SOI\n",
    "args.warmup_epochs = 80\n",
    "args.max_epochs = 100\n",
    "\n",
    "soi = SOI(args, nb_var = task_both.nb_var, test_loader=test_l, gt = gt)\n",
    "## Fit the model\n",
    "soi.fit(train_l, test_l)\n",
    "## Compute O_information using the test_loader\n",
    "print(\"SOI:\", {\" O-inf\": results[\"o_inf\"],\"tc\":results[\"tc\"], \"dtc\":results[\"dtc\"], \"S-info\": results[\"s_inf\"] })\n",
    "print(\"GT:\", {\" O-inf\": gt[\"o_inf\"],\"tc\":gt[\"tc\"], \"dtc\":gt[\"dtc\"], \"S-info\": gt[\"s_inf\"] } )"
   ]
  },
  {
   "cell_type": "markdown",
   "metadata": {},
   "source": [
    "## Gradients of O-information estimation"
   ]
  },
  {
   "cell_type": "code",
   "execution_count": 3,
   "metadata": {},
   "outputs": [
    {
     "ename": "NameError",
     "evalue": "name 'task_both' is not defined",
     "output_type": "error",
     "traceback": [
      "\u001b[0;31m---------------------------------------------------------------------------\u001b[0m",
      "\u001b[0;31mNameError\u001b[0m                                 Traceback (most recent call last)",
      "Cell \u001b[0;32mIn[3], line 1\u001b[0m\n\u001b[0;32m----> 1\u001b[0m gt \u001b[38;5;241m=\u001b[39m \u001b[43mtask_both\u001b[49m\u001b[38;5;241m.\u001b[39mget_summary()\n\u001b[1;32m      2\u001b[0m \u001b[38;5;28mprint\u001b[39m(\u001b[38;5;124m\"\u001b[39m\u001b[38;5;124mg_o_ing : \u001b[39m\u001b[38;5;124m\"\u001b[39m,\u001b[38;5;124m\"\u001b[39m\u001b[38;5;124m \u001b[39m\u001b[38;5;124m\"\u001b[39m\u001b[38;5;241m.\u001b[39mjoin([ \u001b[38;5;124m\"\u001b[39m\u001b[38;5;124mx\u001b[39m\u001b[38;5;132;01m{}\u001b[39;00m\u001b[38;5;124m: \u001b[39m\u001b[38;5;132;01m{}\u001b[39;00m\u001b[38;5;124m,\u001b[39m\u001b[38;5;124m\"\u001b[39m\u001b[38;5;241m.\u001b[39mformat(i,np\u001b[38;5;241m.\u001b[39mround(x,decimals\u001b[38;5;241m=\u001b[39m\u001b[38;5;241m3\u001b[39m) ) \u001b[38;5;28;01mfor\u001b[39;00m i,x \u001b[38;5;129;01min\u001b[39;00m \u001b[38;5;28menumerate\u001b[39m(gt[\u001b[38;5;124m\"\u001b[39m\u001b[38;5;124mg_o_inf\u001b[39m\u001b[38;5;124m\"\u001b[39m]) ]) )\n",
      "\u001b[0;31mNameError\u001b[0m: name 'task_both' is not defined"
     ]
    }
   ],
   "source": [
    "gt = task_both.get_summary()\n",
    "print(\"g_o_ing : \",\" \".join([ \"x{}: {},\".format(i,np.round(x,decimals=3) ) for i,x in enumerate(gt[\"g_o_inf\"]) ]) )"
   ]
  },
  {
   "cell_type": "code",
   "execution_count": 4,
   "metadata": {},
   "outputs": [
    {
     "ename": "NameError",
     "evalue": "name 'task_both' is not defined",
     "output_type": "error",
     "traceback": [
      "\u001b[0;31m---------------------------------------------------------------------------\u001b[0m",
      "\u001b[0;31mNameError\u001b[0m                                 Traceback (most recent call last)",
      "Cell \u001b[0;32mIn[4], line 5\u001b[0m\n\u001b[1;32m      3\u001b[0m args\u001b[38;5;241m.\u001b[39mmax_epochs \u001b[38;5;241m=\u001b[39m \u001b[38;5;241m120\u001b[39m\n\u001b[1;32m      4\u001b[0m \u001b[38;5;66;03m## Run SOI\u001b[39;00m\n\u001b[0;32m----> 5\u001b[0m gt \u001b[38;5;241m=\u001b[39m \u001b[43mtask_both\u001b[49m\u001b[38;5;241m.\u001b[39mget_summary()\n\u001b[1;32m      6\u001b[0m train_l, test_l  \u001b[38;5;241m=\u001b[39m get_dataloader(task_both,args)\n\u001b[1;32m      7\u001b[0m soi \u001b[38;5;241m=\u001b[39m SOI_grad(args, nb_var \u001b[38;5;241m=\u001b[39m task_both\u001b[38;5;241m.\u001b[39mnb_var, test_loader\u001b[38;5;241m=\u001b[39mtest_l, gt \u001b[38;5;241m=\u001b[39m task_both\u001b[38;5;241m.\u001b[39mget_summary())\n",
      "\u001b[0;31mNameError\u001b[0m: name 'task_both' is not defined"
     ]
    }
   ],
   "source": [
    "## Run SOI with gradient of o-information estimation\n",
    "args.warmup_epochs = 100\n",
    "args.max_epochs = 120\n",
    "## Run SOI\n",
    "gt = task_both.get_summary()\n",
    "train_l, test_l  = get_dataloader(task_both,args)\n",
    "soi = SOI_grad(args, nb_var = task_both.nb_var, test_loader=test_l, gt = task_both.get_summary())\n",
    "## Fit the model\n",
    "\n",
    "soi.fit(train_l, test_l)\n",
    "## Compute O_information using the test_loader\n",
    "soi.compute_o_inf_with_grad(test_l)"
   ]
  },
  {
   "cell_type": "code",
   "execution_count": null,
   "metadata": {},
   "outputs": [],
   "source": [
    "print(\"The final estimation :\", soi.compute_o_inf_with_grad(test_l) )"
   ]
  },
  {
   "cell_type": "code",
   "execution_count": 5,
   "metadata": {},
   "outputs": [],
   "source": [
    "args.use_ema=True\n",
    "args.weight_s_functions = True\n",
    "args.importance_sampling = True\n",
    "args.bs = 512\n",
    "args.warmup_epochs = 30\n",
    "args.max_epochs = 60\n",
    "args.test_epoch = 5\n",
    "args.debug = True\n",
    "args.ou_dir = \"quickstart/\""
   ]
  },
  {
   "cell_type": "code",
   "execution_count": 8,
   "metadata": {},
   "outputs": [
    {
     "data": {
      "text/plain": [
       "1.374691270581394"
      ]
     },
     "execution_count": 8,
     "metadata": {},
     "output_type": "execute_result"
    }
   ],
   "source": [
    "## Make a synthetic task with 6 made of two redundant subtasks of 3 variables.\n",
    "my_settings = [{\"rho\":0.35,\"type\":\"red\",\"nb\":3},{\"rho\":0.35,\"type\":\"red\",\"nb\":3},{\"rho\":0.35,\"type\":\"red\",\"nb\":3} ]\n",
    "args.dim = 15\n",
    "task = get_task(args,my_settings)\n",
    "task.o_inf()"
   ]
  },
  {
   "cell_type": "code",
   "execution_count": 9,
   "metadata": {},
   "outputs": [
    {
     "name": "stdout",
     "output_type": "stream",
     "text": [
      "Weighting the scores to learn \n"
     ]
    },
    {
     "name": "stderr",
     "output_type": "stream",
     "text": [
      "GPU available: True (cuda), used: True\n",
      "TPU available: False, using: 0 TPU cores\n",
      "IPU available: False, using: 0 IPUs\n",
      "HPU available: False, using: 0 HPUs\n",
      "You are using a CUDA device ('NVIDIA A100-SXM4-80GB') that has Tensor Cores. To properly utilize them, you should set `torch.set_float32_matmul_precision('medium' | 'high')` which will trade-off precision for performance. For more details, read https://pytorch.org/docs/stable/generated/torch.set_float32_matmul_precision.html#torch.set_float32_matmul_precision\n",
      "LOCAL_RANK: 0 - CUDA_VISIBLE_DEVICES: [0,1,2,3,4,5,6,7]\n",
      "\n",
      "  | Name      | Type | Params\n",
      "-----------------------------------\n",
      "0 | score     | DiT  | 1.1 M \n",
      "1 | model_ema | EMA  | 1.1 M \n",
      "-----------------------------------\n",
      "2.3 M     Trainable params\n",
      "0         Non-trainable params\n",
      "2.3 M     Total params\n",
      "9.080     Total estimated model params size (MB)\n"
     ]
    },
    {
     "data": {
      "application/vnd.jupyter.widget-view+json": {
       "model_id": "",
       "version_major": 2,
       "version_minor": 0
      },
      "text/plain": [
       "Sanity Checking: |                                             | 0/? [00:00<?, ?it/s]"
      ]
     },
     "metadata": {},
     "output_type": "display_data"
    },
    {
     "data": {
      "application/vnd.jupyter.widget-view+json": {
       "model_id": "0e925e445f0e490c89636f020a7e2949",
       "version_major": 2,
       "version_minor": 0
      },
      "text/plain": [
       "Training: |                                                    | 0/? [00:00<?, ?it/s]"
      ]
     },
     "metadata": {},
     "output_type": "display_data"
    },
    {
     "name": "stdout",
     "output_type": "stream",
     "text": [
      "Epoch:  25  GT:  1.375 SOI_estimate:  0.396\n",
      "Epoch:  30  GT:  1.375 SOI_estimate:  0.845\n",
      "Epoch:  35  GT:  1.375 SOI_estimate:  1.468\n",
      "Epoch:  40  GT:  1.375 SOI_estimate:  1.486\n",
      "Epoch:  45  GT:  1.375 SOI_estimate:  1.132\n"
     ]
    },
    {
     "data": {
      "application/vnd.jupyter.widget-view+json": {
       "model_id": "",
       "version_major": 2,
       "version_minor": 0
      },
      "text/plain": [
       "Validation: |                                                  | 0/? [00:00<?, ?it/s]"
      ]
     },
     "metadata": {},
     "output_type": "display_data"
    },
    {
     "name": "stdout",
     "output_type": "stream",
     "text": [
      "Epoch:  50  GT:  1.375 SOI_estimate:  1.054\n",
      "Epoch:  55  GT:  1.375 SOI_estimate:  1.09\n",
      "Epoch:  60  GT:  1.375 SOI_estimate:  1.219\n",
      "Epoch:  65  GT:  1.375 SOI_estimate:  1.022\n",
      "Epoch:  70  GT:  1.375 SOI_estimate:  1.234\n",
      "Epoch:  75  GT:  1.375 SOI_estimate:  1.025\n",
      "Epoch:  80  GT:  1.375 SOI_estimate:  1.011\n",
      "Epoch:  85  GT:  1.375 SOI_estimate:  1.072\n",
      "Epoch:  90  GT:  1.375 SOI_estimate:  1.156\n",
      "Epoch:  95  GT:  1.375 SOI_estimate:  1.212\n"
     ]
    },
    {
     "data": {
      "application/vnd.jupyter.widget-view+json": {
       "model_id": "",
       "version_major": 2,
       "version_minor": 0
      },
      "text/plain": [
       "Validation: |                                                  | 0/? [00:00<?, ?it/s]"
      ]
     },
     "metadata": {},
     "output_type": "display_data"
    },
    {
     "name": "stderr",
     "output_type": "stream",
     "text": [
      "`Trainer.fit` stopped: `max_epochs=100` reached.\n"
     ]
    }
   ],
   "source": [
    "args.warmup_epochs = 20\n",
    "args.max_epochs = 100\n",
    "## Run SOI\n",
    "gt = task.get_summary()\n",
    "train_l, test_l  = get_dataloader(task,args)\n",
    "soi = SOI(args, nb_var = task.nb_var, test_loader=test_l, gt = task.get_summary())\n",
    "## Fit the model\n",
    "\n",
    "soi.fit(train_l, test_l)\n",
    "## Compute O_information using the test_loader\n",
    "soi.compute_o_inf()"
   ]
  },
  {
   "cell_type": "code",
   "execution_count": 12,
   "metadata": {},
   "outputs": [
    {
     "data": {
      "text/plain": [
       "{'tc': 6.434124422073364,\n",
       " 'dtc': 5.454814529418945,\n",
       " 'o_inf': 0.9793098926544195,\n",
       " 's_inf': 11.88893895149231}"
      ]
     },
     "execution_count": 12,
     "metadata": {},
     "output_type": "execute_result"
    }
   ],
   "source": [
    "soi.compute_o_inf()"
   ]
  },
  {
   "cell_type": "code",
   "execution_count": null,
   "metadata": {},
   "outputs": [],
   "source": []
  }
 ],
 "metadata": {
  "kernelspec": {
   "display_name": "Python 3 (ipykernel)",
   "language": "python",
   "name": "python3"
  },
  "language_info": {
   "codemirror_mode": {
    "name": "ipython",
    "version": 3
   },
   "file_extension": ".py",
   "mimetype": "text/x-python",
   "name": "python",
   "nbconvert_exporter": "python",
   "pygments_lexer": "ipython3",
   "version": "3.9.12"
  }
 },
 "nbformat": 4,
 "nbformat_minor": 4
}
