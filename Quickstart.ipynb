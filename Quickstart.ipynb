{
 "cells": [
  {
   "cell_type": "code",
   "execution_count": null,
   "metadata": {},
   "outputs": [],
   "source": [
    "from experiments.config import get_default_config\n",
    "from src.benchmark.synthetic_dataset import  get_task,get_dataloader\n",
    "from src.libs.soi import  SOI\n",
    "from src.libs.soi_grad import  SOI_grad\n",
    "import numpy as np"
   ]
  },
  {
   "cell_type": "code",
   "execution_count": null,
   "metadata": {},
   "outputs": [],
   "source": [
    "## Default config\n",
    "args=get_default_config()"
   ]
  },
  {
   "cell_type": "markdown",
   "metadata": {},
   "source": [
    "### Redundancy"
   ]
  },
  {
   "cell_type": "code",
   "execution_count": null,
   "metadata": {},
   "outputs": [],
   "source": [
    "## Make a synthetic task with 6 made of two redundant subtasks of 3 variables.\n",
    "my_settings = [{\"rho\":0.6,\"type\":\"red\",\"nb\":3} ]\n",
    "args.dim = 1\n",
    "task_red = get_task(args,my_settings)\n",
    "task_red.o_inf()"
   ]
  },
  {
   "cell_type": "markdown",
   "metadata": {},
   "source": [
    "### Synergy"
   ]
  },
  {
   "cell_type": "code",
   "execution_count": null,
   "metadata": {},
   "outputs": [],
   "source": [
    "## Make a synthetic task with 6 made of two redundant subtasks of 3 variables.\n",
    "my_settings = [{\"rho\":0.6,\"type\":\"Syn\",\"nb\":3} ]\n",
    "args.dim = 1\n",
    "task_syn = get_task(args,my_settings)\n",
    "task_syn.get_summary()[\"o_inf\"]"
   ]
  },
  {
   "cell_type": "markdown",
   "metadata": {},
   "source": [
    "### Redundancy + Synergy"
   ]
  },
  {
   "cell_type": "code",
   "execution_count": null,
   "metadata": {},
   "outputs": [],
   "source": [
    "## Make a synthetic task with 6 made of two redundant subtasks of 3 variables.\n",
    "my_settings = [{\"rho\":0.6,\"type\":\"red\",\"nb\":3},{\"rho\":0.6,\"type\":\"Syn\",\"nb\":3} ]\n",
    "args.dim = 1\n",
    "task_both = get_task(args,my_settings)\n",
    "task_both.get_summary()[\"o_inf\"]"
   ]
  },
  {
   "cell_type": "markdown",
   "metadata": {},
   "source": [
    "# O-information estimation"
   ]
  },
  {
   "cell_type": "markdown",
   "metadata": {},
   "source": [
    "### General config"
   ]
  },
  {
   "cell_type": "code",
   "execution_count": null,
   "metadata": {},
   "outputs": [],
   "source": [
    "args.use_ema=True\n",
    "args.weight_s_functions = True\n",
    "args.importance_sampling = True\n",
    "args.bs = 512\n",
    "args.warmup_epochs = 80\n",
    "args.max_epochs = 60\n",
    "args.test_epoch = 2\n",
    "args.debug = True\n",
    "args.ou_dir = \"quickstart/\""
   ]
  },
  {
   "cell_type": "markdown",
   "metadata": {},
   "source": [
    "### Runing SOI "
   ]
  },
  {
   "cell_type": "markdown",
   "metadata": {},
   "source": [
    "### On the redundancy benchmark"
   ]
  },
  {
   "cell_type": "code",
   "execution_count": null,
   "metadata": {},
   "outputs": [],
   "source": [
    "gt = task_red.get_summary()\n",
    "train_l, test_l  = get_dataloader(task_red,args)\n",
    "## Run SOI\n",
    "soi = SOI(args, nb_var = task_red.nb_var, test_loader=test_l, gt = gt)\n",
    "## Fit the model\n",
    "soi.fit(train_l, test_l)\n",
    "## Compute O_information using the test_loader\n",
    "results = soi.compute_o_inf()\n",
    "print(\"SOI:\", {\" O-inf\": results[\"o_inf\"],\"tc\":results[\"tc\"], \"dtc\":results[\"dtc\"], \"S-info\": results[\"s_inf\"] })\n",
    "print(\"GT:\", {\" O-inf\": gt[\"o_inf\"],\"tc\":gt[\"tc\"], \"dtc\":gt[\"dtc\"], \"S-info\": gt[\"s_inf\"] } )\n"
   ]
  },
  {
   "cell_type": "markdown",
   "metadata": {},
   "source": [
    "### On the synergy benchmark"
   ]
  },
  {
   "cell_type": "code",
   "execution_count": null,
   "metadata": {},
   "outputs": [],
   "source": [
    "gt = task_syn.get_summary()\n",
    "train_l, test_l  = get_dataloader(task_syn,args)\n",
    "## Run SOI\n",
    "soi = SOI(args, nb_var = task_syn.nb_var, test_loader=test_l, gt = gt)\n",
    "## Fit the model\n",
    "soi.fit(train_l, test_l)\n",
    "## Compute O_information using the test_loader\n",
    "results = soi.compute_o_inf()\n",
    "print(\"SOI:\", {\" O-inf\": results[\"o_inf\"],\"tc\":results[\"tc\"], \"dtc\":results[\"dtc\"], \"S-info\": results[\"s_inf\"] })\n",
    "print(\"GT:\", {\" O-inf\": gt[\"o_inf\"],\"tc\":gt[\"tc\"], \"dtc\":gt[\"dtc\"], \"S-info\": gt[\"s_inf\"] } )\n"
   ]
  },
  {
   "cell_type": "markdown",
   "metadata": {},
   "source": [
    "### On the mixed benchmark"
   ]
  },
  {
   "cell_type": "code",
   "execution_count": null,
   "metadata": {},
   "outputs": [],
   "source": [
    "gt = task_both.get_summary()\n",
    "train_l, test_l  = get_dataloader(task_both,args)\n",
    "## Run SOI\n",
    "args.warmup_epochs = 80\n",
    "args.max_epochs = 100\n",
    "\n",
    "soi = SOI(args, nb_var = task_both.nb_var, test_loader=test_l, gt = gt)\n",
    "## Fit the model\n",
    "soi.fit(train_l, test_l)\n",
    "## Compute O_information using the test_loader\n",
    "print(\"SOI:\", {\" O-inf\": results[\"o_inf\"],\"tc\":results[\"tc\"], \"dtc\":results[\"dtc\"], \"S-info\": results[\"s_inf\"] })\n",
    "print(\"GT:\", {\" O-inf\": gt[\"o_inf\"],\"tc\":gt[\"tc\"], \"dtc\":gt[\"dtc\"], \"S-info\": gt[\"s_inf\"] } )"
   ]
  },
  {
   "cell_type": "markdown",
   "metadata": {},
   "source": [
    "## Gradients of O-information estimation"
   ]
  },
  {
   "cell_type": "code",
   "execution_count": null,
   "metadata": {},
   "outputs": [],
   "source": [
    "gt = task_both.get_summary()\n",
    "print(\"g_o_ing : \",\" \".join([ \"x{}: {},\".format(i,np.round(x,decimals=3) ) for i,x in enumerate(gt[\"g_o_inf\"]) ]) )"
   ]
  },
  {
   "cell_type": "code",
   "execution_count": null,
   "metadata": {},
   "outputs": [],
   "source": [
    "## Run SOI with gradient of o-information estimation\n",
    "args.warmup_epochs = 100\n",
    "args.max_epochs = 120\n",
    "## Run SOI\n",
    "gt = task_both.get_summary()\n",
    "train_l, test_l  = get_dataloader(task_both,args)\n",
    "soi = SOI_grad(args, nb_var = task_both.nb_var, test_loader=test_l, gt = task_both.get_summary())\n",
    "## Fit the model\n",
    "\n",
    "soi.fit(train_l, test_l)\n",
    "## Compute O_information using the test_loader\n",
    "soi.compute_o_inf_with_grad(test_l)"
   ]
  },
  {
   "cell_type": "code",
   "execution_count": null,
   "metadata": {},
   "outputs": [],
   "source": [
    "print(\"The final estimation :\", soi.compute_o_inf_with_grad(test_l) )"
   ]
  }
 ],
 "metadata": {
  "kernelspec": {
   "display_name": "Python 3 (ipykernel)",
   "language": "python",
   "name": "python3"
  },
  "language_info": {
   "codemirror_mode": {
    "name": "ipython",
    "version": 3
   },
   "file_extension": ".py",
   "mimetype": "text/x-python",
   "name": "python",
   "nbconvert_exporter": "python",
   "pygments_lexer": "ipython3",
   "version": "3.9.12"
  }
 },
 "nbformat": 4,
 "nbformat_minor": 4
}
