{
 "cells": [
  {
   "cell_type": "code",
   "execution_count": 7,
   "metadata": {},
   "outputs": [
    {
     "name": "stderr",
     "output_type": "stream",
     "text": [
      "Seed set to 42\n"
     ]
    }
   ],
   "source": [
    "\n",
    "import torch\n",
    "import pytorch_lightning as pl\n",
    "from torch.utils.data import DataLoader\n",
    "from pytorch_lightning.loggers import TensorBoardLogger\n",
    "import numpy as np\n",
    "from src.benchmark.toy_dataset import Task_redundant ,Task_synergy,Task_combination\n",
    "from pytorch_lightning.trainer import seed_everything\n",
    "from src.baseline.baseline import O_Estimator\n",
    "seed_everything(42)\n",
    "\n",
    "def get_samples(test_loader,mod_list,device):\n",
    "        data ={ mod :torch.Tensor().to(device) for mod in mod_list} \n",
    "        for batch in test_loader:\n",
    "            for mod in mod_list:\n",
    "                data[mod]  = torch.cat([data[mod],batch[mod].to(device) ] )\n",
    "        return data"
   ]
  },
  {
   "cell_type": "code",
   "execution_count": 13,
   "metadata": {},
   "outputs": [],
   "source": [
    "nb_mod = 6\n",
    "dim=5\n",
    "r = {} \n",
    "#for sigma in [2.0,1.5,1.0,0.8,0.6,0.4,0.2,0.1,0.01]: \n",
    "def test_sgima(rho):\n",
    "    \n",
    "    task = Task_combination(tasks= [Task_synergy(nb_var=3, rho=rho ,dim = dim),\n",
    "                                    Task_synergy(nb_var=3, rho=rho ,dim = dim)] ,dim=dim)\n",
    "    N = 100 * 1000\n",
    "\n",
    "    d_train, d_test = task.get_torch_dataset(N,10000,dim=dim,rescale=False)\n",
    "\n",
    "    train_loader = DataLoader(d_train, batch_size=64,shuffle=True,\n",
    "                                num_workers=8, drop_last=True)\n",
    "\n",
    "    test_loader = DataLoader(d_test, batch_size=64,\n",
    "                                shuffle= False,\n",
    "                                num_workers=8, drop_last=False)\n",
    "\n",
    "    mod_list={ \"x\"+ str(i) : dim for i in range(nb_mod) }\n",
    "\n",
    "    test_samples = test_loader\n",
    "\n",
    "    model = O_Estimator(\n",
    "                    dims= [dim for i in range(nb_mod) ],\n",
    "                    test_samples= test_samples,\n",
    "                    gt = task.get_summary(), \n",
    "                    hidden_size=24,\n",
    "                    mi_estimator=\"InfoNCE\",\n",
    "                    lr=1e-3,\n",
    "                    test_epoch= 20,\n",
    "                    )\n",
    "\n",
    "    CHECKPOINT_DIR = \"trained_models/\"\n",
    "    tb_logger =  TensorBoardLogger(save_dir = CHECKPOINT_DIR,name=\"baseline\"+str(dim))\n",
    "    trainer = pl.Trainer( logger= tb_logger,\n",
    "                        accelerator='gpu', devices= 1,\n",
    "                            max_epochs= 10, \n",
    "                            #num_sanity_val_steps=0,\n",
    "                            #strategy=\"ddp\",\n",
    "                            default_root_dir = CHECKPOINT_DIR,\n",
    "                        )\n",
    "    trainer.fit(model=model, train_dataloaders=train_loader,val_dataloaders=test_loader  )\n",
    "    r ={} \n",
    "    r[\"gt\"] = task.get_summary()\n",
    "    model.eval()\n",
    "    r [\"e\"] = model.forward(model.test_samples)\n",
    "    return r\n",
    "    \n"
   ]
  },
  {
   "cell_type": "code",
   "execution_count": null,
   "metadata": {},
   "outputs": [
    {
     "name": "stderr",
     "output_type": "stream",
     "text": [
      "GPU available: True (cuda), used: True\n",
      "TPU available: False, using: 0 TPU cores\n",
      "IPU available: False, using: 0 IPUs\n",
      "HPU available: False, using: 0 HPUs\n",
      "LOCAL_RANK: 0 - CUDA_VISIBLE_DEVICES: [0,1,2,3,4,5,6,7]\n",
      "\n",
      "  | Name                 | Type       | Params\n",
      "----------------------------------------------------\n",
      "0 | mi_estimator_list_tc | ModuleList | 41.2 K\n",
      "1 | mi_estimator_list_s  | ModuleList | 110 K \n",
      "----------------------------------------------------\n",
      "151 K     Trainable params\n",
      "0         Non-trainable params\n",
      "151 K     Total params\n",
      "0.605     Total estimated model params size (MB)\n"
     ]
    },
    {
     "data": {
      "application/vnd.jupyter.widget-view+json": {
       "model_id": "",
       "version_major": 2,
       "version_minor": 0
      },
      "text/plain": [
       "Sanity Checking: |                                                 | 0/? [00:00<?, ?it/s]"
      ]
     },
     "metadata": {},
     "output_type": "display_data"
    },
    {
     "data": {
      "application/vnd.jupyter.widget-view+json": {
       "model_id": "727ccd3184f54180b1b3fade79e82837",
       "version_major": 2,
       "version_minor": 0
      },
      "text/plain": [
       "Training: |                                                        | 0/? [00:00<?, ?it/s]"
      ]
     },
     "metadata": {},
     "output_type": "display_data"
    },
    {
     "data": {
      "application/vnd.jupyter.widget-view+json": {
       "model_id": "",
       "version_major": 2,
       "version_minor": 0
      },
      "text/plain": [
       "Validation: |                                                      | 0/? [00:00<?, ?it/s]"
      ]
     },
     "metadata": {},
     "output_type": "display_data"
    },
    {
     "name": "stderr",
     "output_type": "stream",
     "text": [
      "\n",
      "  0%|                                                            | 0/157 [00:00<?, ?it/s]\u001b[A\n",
      "  1%|▎                                                   | 1/157 [00:00<00:49,  3.15it/s]\u001b[A\n",
      "  8%|███▉                                               | 12/157 [00:00<00:04, 36.04it/s]\u001b[A\n",
      " 15%|███████▊                                           | 24/157 [00:00<00:02, 61.62it/s]\u001b[A\n",
      " 22%|███████████▎                                       | 35/157 [00:00<00:01, 76.12it/s]\u001b[A\n",
      " 29%|██████████████▉                                    | 46/157 [00:00<00:01, 85.98it/s]\u001b[A\n",
      " 36%|██████████████████▌                                | 57/157 [00:00<00:01, 91.85it/s]\u001b[A\n",
      " 43%|██████████████████████                             | 68/157 [00:00<00:00, 96.06it/s]\u001b[A\n",
      " 51%|█████████████████████████▍                        | 80/157 [00:01<00:00, 100.59it/s]\u001b[A\n",
      " 58%|████████████████████████████▉                     | 91/157 [00:01<00:00, 101.67it/s]\u001b[A\n",
      " 65%|███████████████████████████████▊                 | 102/157 [00:01<00:00, 103.48it/s]\u001b[A\n",
      " 72%|███████████████████████████████████▎             | 113/157 [00:01<00:00, 104.74it/s]\u001b[A\n",
      " 79%|██████████████████████████████████████▋          | 124/157 [00:01<00:00, 105.17it/s]\u001b[A\n",
      " 87%|██████████████████████████████████████████▍      | 136/157 [00:01<00:00, 107.16it/s]\u001b[A\n",
      "100%|██████████████████████████████████████████████████| 157/157 [00:01<00:00, 86.97it/s]\u001b[A\n"
     ]
    },
    {
     "data": {
      "application/vnd.jupyter.widget-view+json": {
       "model_id": "",
       "version_major": 2,
       "version_minor": 0
      },
      "text/plain": [
       "Validation: |                                                      | 0/? [00:00<?, ?it/s]"
      ]
     },
     "metadata": {},
     "output_type": "display_data"
    },
    {
     "data": {
      "application/vnd.jupyter.widget-view+json": {
       "model_id": "",
       "version_major": 2,
       "version_minor": 0
      },
      "text/plain": [
       "Validation: |                                                      | 0/? [00:00<?, ?it/s]"
      ]
     },
     "metadata": {},
     "output_type": "display_data"
    }
   ],
   "source": [
    "r=test_sgima(0.5)"
   ]
  },
  {
   "cell_type": "code",
   "execution_count": null,
   "metadata": {},
   "outputs": [],
   "source": [
    "r[\"gt\"][\"o_inf\"]"
   ]
  },
  {
   "cell_type": "code",
   "execution_count": null,
   "metadata": {},
   "outputs": [],
   "source": [
    "r[\"e\"][\"o_if\"]"
   ]
  }
 ],
 "metadata": {
  "kernelspec": {
   "display_name": "Python 3 (ipykernel)",
   "language": "python",
   "name": "python3"
  },
  "language_info": {
   "codemirror_mode": {
    "name": "ipython",
    "version": 3
   },
   "file_extension": ".py",
   "mimetype": "text/x-python",
   "name": "python",
   "nbconvert_exporter": "python",
   "pygments_lexer": "ipython3",
   "version": "3.9.12"
  }
 },
 "nbformat": 4,
 "nbformat_minor": 4
}
