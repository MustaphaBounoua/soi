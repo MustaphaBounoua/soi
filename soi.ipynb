{
 "cells": [
  {
   "cell_type": "code",
   "execution_count": 1,
   "metadata": {},
   "outputs": [
    {
     "name": "stderr",
     "output_type": "stream",
     "text": [
      "Seed set to 33\n"
     ]
    },
    {
     "data": {
      "text/plain": [
       "33"
      ]
     },
     "execution_count": 1,
     "metadata": {},
     "output_type": "execute_result"
    }
   ],
   "source": [
    "from src.SB.soi import SOI\n",
    "import torch\n",
    "import pytorch_lightning as pl\n",
    "from torch.utils.data import DataLoader\n",
    "from pytorch_lightning.loggers import TensorBoardLogger\n",
    "from src.benchmark.toy_dataset import Task_redundant ,Task_synergy,Task_combination\n",
    "from pytorch_lightning.trainer import seed_everything\n",
    "seed_everything(33)\n"
   ]
  },
  {
   "cell_type": "code",
   "execution_count": 2,
   "metadata": {},
   "outputs": [],
   "source": [
    "nb_mod = 6\n",
    "dim=5\n",
    "r = {} \n",
    "\n",
    "def get_samples(test_loader,mod_list,device):\n",
    "        data ={ mod :torch.Tensor().to(device) for mod in mod_list} \n",
    "        for batch in test_loader:\n",
    "            for mod in mod_list:\n",
    "                data[mod]  = torch.cat([data[mod],batch[mod].to(device) ] )\n",
    "        return data\n",
    "    \n",
    "\n",
    "def test_sgima(rho):\n",
    "    task = Task_combination(tasks= [Task_redundant(nb_var=3, rho=rho ,dim = dim),\n",
    "                                    Task_redundant(nb_var=3, rho=rho,dim = dim),\n",
    "                                \n",
    "                               ]  ,dim=dim)\n",
    "    N =  1000 *100\n",
    "    nb_mod = task.nb_var\n",
    "    d_train, d_test = task.get_torch_dataset(N,10*1000,dim=dim,rescale=False)\n",
    "\n",
    "    train_loader = DataLoader(d_train, batch_size=256,shuffle=True,\n",
    "                                num_workers=8, drop_last=True)\n",
    "\n",
    "    test_loader = DataLoader(d_test, batch_size=1000,\n",
    "                                shuffle= False,\n",
    "                                num_workers=8, drop_last=False)\n",
    "\n",
    "    mod_list={ \"x\"+ str(i) : dim for i in range(nb_mod) }\n",
    "\n",
    "    test_samples = get_samples(test_loader, mod_list=mod_list,device = \"cuda\")\n",
    "\n",
    "    model = SOI(\n",
    "                    test_samples= test_samples,\n",
    "                    gt = task.get_summary(),\n",
    "                    lr=1e-2,\n",
    "                    mod_list =mod_list ,\n",
    "                    use_ema= True, \n",
    "                    debias=True,\n",
    "                    test_epoch= 10,\n",
    "                    tx=True,\n",
    "                    scores_order= 1,\n",
    "                    debug= True,\n",
    "                    margin_time=1,\n",
    "                    fill_zeros= True,\n",
    "                    weight_subsets=True )\n",
    "\n",
    "    CHECKPOINT_DIR = \"trained_models/\"\n",
    "    tb_logger =  TensorBoardLogger(save_dir = CHECKPOINT_DIR,name=\"test\"+str(dim))\n",
    "    trainer = pl.Trainer( logger= tb_logger,\n",
    "                        accelerator='gpu', devices= 1,\n",
    "                            max_epochs= 50, \n",
    "                            default_root_dir = CHECKPOINT_DIR,\n",
    "                        )\n",
    "\n",
    "    trainer.fit(model=model, train_dataloaders=train_loader,val_dataloaders=test_loader  )\n",
    "    return {\"gt\": task.get_summary(), \"soi\": model.compute_o_inf(test_samples, debias=True,nb_iter= 10)}\n",
    "    \n"
   ]
  },
  {
   "cell_type": "code",
   "execution_count": 3,
   "metadata": {},
   "outputs": [
    {
     "name": "stdout",
     "output_type": "stream",
     "text": [
      "starting to sample data\n",
      "after cov\n",
      "after reshape\n"
     ]
    },
    {
     "name": "stderr",
     "output_type": "stream",
     "text": [
      "GPU available: True (cuda), used: True\n",
      "TPU available: False, using: 0 TPU cores\n",
      "IPU available: False, using: 0 IPUs\n",
      "HPU available: False, using: 0 HPUs\n",
      "You are using a CUDA device ('NVIDIA A100-SXM4-80GB') that has Tensor Cores. To properly utilize them, you should set `torch.set_float32_matmul_precision('medium' | 'high')` which will trade-off precision for performance. For more details, read https://pytorch.org/docs/stable/generated/torch.set_float32_matmul_precision.html#torch.set_float32_matmul_precision\n",
      "LOCAL_RANK: 0 - CUDA_VISIBLE_DEVICES: [0,1,2,3,4,5,6,7]\n"
     ]
    },
    {
     "name": "stdout",
     "output_type": "stream",
     "text": [
      "Weighting the scores to learn \n"
     ]
    },
    {
     "name": "stderr",
     "output_type": "stream",
     "text": [
      "\n",
      "  | Name      | Type | Params\n",
      "-----------------------------------\n",
      "0 | score     | DiT  | 658 K \n",
      "1 | model_ema | EMA  | 658 K \n",
      "-----------------------------------\n",
      "1.3 M     Trainable params\n",
      "0         Non-trainable params\n",
      "1.3 M     Total params\n",
      "5.265     Total estimated model params size (MB)\n"
     ]
    },
    {
     "data": {
      "application/vnd.jupyter.widget-view+json": {
       "model_id": "12ff7591976b49e296d09afc3d2d63e7",
       "version_major": 2,
       "version_minor": 0
      },
      "text/plain": [
       "Sanity Checking: |          | 0/? [00:00<?, ?it/s]"
      ]
     },
     "metadata": {},
     "output_type": "display_data"
    },
    {
     "data": {
      "application/vnd.jupyter.widget-view+json": {
       "model_id": "447cd4c5f0184061b1e4c974a86050a4",
       "version_major": 2,
       "version_minor": 0
      },
      "text/plain": [
       "Training: |          | 0/? [00:00<?, ?it/s]"
      ]
     },
     "metadata": {},
     "output_type": "display_data"
    },
    {
     "data": {
      "application/vnd.jupyter.widget-view+json": {
       "model_id": "0a580e05790c402f972bb8954660a069",
       "version_major": 2,
       "version_minor": 0
      },
      "text/plain": [
       "Validation: |          | 0/? [00:00<?, ?it/s]"
      ]
     },
     "metadata": {},
     "output_type": "display_data"
    },
    {
     "data": {
      "application/vnd.jupyter.widget-view+json": {
       "model_id": "bea1e5c8139446229c26fada7356dde6",
       "version_major": 2,
       "version_minor": 0
      },
      "text/plain": [
       "Validation: |          | 0/? [00:00<?, ?it/s]"
      ]
     },
     "metadata": {},
     "output_type": "display_data"
    },
    {
     "data": {
      "application/vnd.jupyter.widget-view+json": {
       "model_id": "5dab74c58c2547da8a29076b81b0a47f",
       "version_major": 2,
       "version_minor": 0
      },
      "text/plain": [
       "Validation: |          | 0/? [00:00<?, ?it/s]"
      ]
     },
     "metadata": {},
     "output_type": "display_data"
    },
    {
     "data": {
      "application/vnd.jupyter.widget-view+json": {
       "model_id": "81204ea022324bb3872ae73bca487ffb",
       "version_major": 2,
       "version_minor": 0
      },
      "text/plain": [
       "Validation: |          | 0/? [00:00<?, ?it/s]"
      ]
     },
     "metadata": {},
     "output_type": "display_data"
    },
    {
     "data": {
      "application/vnd.jupyter.widget-view+json": {
       "model_id": "2791bf6e05434638be1195f434fdd3b6",
       "version_major": 2,
       "version_minor": 0
      },
      "text/plain": [
       "Validation: |          | 0/? [00:00<?, ?it/s]"
      ]
     },
     "metadata": {},
     "output_type": "display_data"
    },
    {
     "data": {
      "application/vnd.jupyter.widget-view+json": {
       "model_id": "7040f3daf88e439eb01ebab3b2b7f4d1",
       "version_major": 2,
       "version_minor": 0
      },
      "text/plain": [
       "Validation: |          | 0/? [00:00<?, ?it/s]"
      ]
     },
     "metadata": {},
     "output_type": "display_data"
    },
    {
     "data": {
      "application/vnd.jupyter.widget-view+json": {
       "model_id": "d464abd55d974f658995617b2327e954",
       "version_major": 2,
       "version_minor": 0
      },
      "text/plain": [
       "Validation: |          | 0/? [00:00<?, ?it/s]"
      ]
     },
     "metadata": {},
     "output_type": "display_data"
    },
    {
     "data": {
      "application/vnd.jupyter.widget-view+json": {
       "model_id": "7138f1f7b6674d32902e77415bba8925",
       "version_major": 2,
       "version_minor": 0
      },
      "text/plain": [
       "Validation: |          | 0/? [00:00<?, ?it/s]"
      ]
     },
     "metadata": {},
     "output_type": "display_data"
    },
    {
     "data": {
      "application/vnd.jupyter.widget-view+json": {
       "model_id": "28fe5d177e41411ba87e041d6ba16a61",
       "version_major": 2,
       "version_minor": 0
      },
      "text/plain": [
       "Validation: |          | 0/? [00:00<?, ?it/s]"
      ]
     },
     "metadata": {},
     "output_type": "display_data"
    },
    {
     "data": {
      "application/vnd.jupyter.widget-view+json": {
       "model_id": "38c87e8a365c45189f9d1fe888c2679a",
       "version_major": 2,
       "version_minor": 0
      },
      "text/plain": [
       "Validation: |          | 0/? [00:00<?, ?it/s]"
      ]
     },
     "metadata": {},
     "output_type": "display_data"
    },
    {
     "data": {
      "application/vnd.jupyter.widget-view+json": {
       "model_id": "a3573e8aaf114dd3880f5c2d50cedae6",
       "version_major": 2,
       "version_minor": 0
      },
      "text/plain": [
       "Validation: |          | 0/? [00:00<?, ?it/s]"
      ]
     },
     "metadata": {},
     "output_type": "display_data"
    },
    {
     "data": {
      "application/vnd.jupyter.widget-view+json": {
       "model_id": "c8e5272fa3d34f31b410bfca8d65a540",
       "version_major": 2,
       "version_minor": 0
      },
      "text/plain": [
       "Validation: |          | 0/? [00:00<?, ?it/s]"
      ]
     },
     "metadata": {},
     "output_type": "display_data"
    }
   ],
   "source": [
    "out = test_sgima(0.5)"
   ]
  },
  {
   "cell_type": "code",
   "execution_count": null,
   "metadata": {},
   "outputs": [],
   "source": [
    "out[\"gt\"][\"o_inf\"]"
   ]
  },
  {
   "cell_type": "code",
   "execution_count": null,
   "metadata": {},
   "outputs": [],
   "source": [
    "out[\"soi\"][\"simple\"][\"o_inf\"]"
   ]
  },
  {
   "cell_type": "code",
   "execution_count": null,
   "metadata": {},
   "outputs": [],
   "source": []
  }
 ],
 "metadata": {
  "kernelspec": {
   "display_name": "Python 3 (ipykernel)",
   "language": "python",
   "name": "python3"
  },
  "language_info": {
   "codemirror_mode": {
    "name": "ipython",
    "version": 3
   },
   "file_extension": ".py",
   "mimetype": "text/x-python",
   "name": "python",
   "nbconvert_exporter": "python",
   "pygments_lexer": "ipython3",
   "version": "3.9.12"
  }
 },
 "nbformat": 4,
 "nbformat_minor": 4
}
